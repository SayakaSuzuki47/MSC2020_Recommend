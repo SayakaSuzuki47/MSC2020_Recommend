{
  "cells": [
    {
      "cell_type": "markdown",
      "metadata": {
        "id": "pSbOLEN0S8eI"
      },
      "source": [
        "#ダウンロード\n",
        "必要なリソースをダウンロードします。"
      ]
    },
    {
      "cell_type": "code",
      "execution_count": 9,
      "metadata": {
        "id": "fPIGQqEhUCE7"
      },
      "outputs": [],
      "source": [
        "import numpy as np\n",
        "import pandas as pd"
      ]
    },
    {
      "cell_type": "code",
      "execution_count": 2,
      "metadata": {
        "colab": {
          "base_uri": "https://localhost:8080/"
        },
        "id": "wma0a1LYSTIz",
        "outputId": "043ca1f1-0c16-4993-c5b4-4b164a16fda5"
      },
      "outputs": [
        {
          "name": "stderr",
          "output_type": "stream",
          "text": [
            "Cloning into 'MSC2020_Recommend'...\n"
          ]
        }
      ],
      "source": [
        "!git clone https://github.com/SayakaSuzuki47/MSC2020_Recommend.git"
      ]
    },
    {
      "cell_type": "code",
      "execution_count": 3,
      "metadata": {
        "colab": {
          "base_uri": "https://localhost:8080/"
        },
        "id": "e_3uezABSmYC",
        "outputId": "2512657d-e7d8-4507-fd54-b90694d24d10"
      },
      "outputs": [
        {
          "name": "stdout",
          "output_type": "stream",
          "text": [
            "[WinError 3] 指定されたパスが見つかりません。: \"'./MSC2020_Recommend'\"\n",
            "c:\\Users\\Ss613\\Documents\\GitHub\\MSC2020_Recommend\n"
          ]
        }
      ],
      "source": [
        "%cd './MSC2020_Recommend'"
      ]
    },
    {
      "cell_type": "code",
      "execution_count": 4,
      "metadata": {
        "colab": {
          "base_uri": "https://localhost:8080/"
        },
        "id": "q9IW1C2Pj96E",
        "outputId": "4061d6b1-8687-426f-d489-de9ceff60824"
      },
      "outputs": [
        {
          "name": "stdout",
          "output_type": "stream",
          "text": [
            "Already up to date.\n"
          ]
        }
      ],
      "source": [
        "!git pull"
      ]
    },
    {
      "cell_type": "code",
      "execution_count": 10,
      "metadata": {
        "colab": {
          "base_uri": "https://localhost:8080/"
        },
        "id": "hhVy33U5Vlif",
        "outputId": "5485f8a2-0a42-464a-be32-e53943bf6601"
      },
      "outputs": [
        {
          "name": "stdout",
          "output_type": "stream",
          "text": [
            "Requirement already satisfied: datasets in c:\\users\\ss613\\anaconda3\\envs\\vscode\\lib\\site-packages (2.12.0)\n",
            "Requirement already satisfied: evaluate in c:\\users\\ss613\\anaconda3\\envs\\vscode\\lib\\site-packages (0.4.0)\n",
            "Requirement already satisfied: transformers[sentencepiece] in c:\\users\\ss613\\anaconda3\\envs\\vscode\\lib\\site-packages (4.28.1)\n",
            "Requirement already satisfied: requests>=2.19.0 in c:\\users\\ss613\\anaconda3\\envs\\vscode\\lib\\site-packages (from datasets) (2.29.0)\n",
            "Requirement already satisfied: pandas in c:\\users\\ss613\\anaconda3\\envs\\vscode\\lib\\site-packages (from datasets) (1.5.3)\n",
            "Requirement already satisfied: aiohttp in c:\\users\\ss613\\anaconda3\\envs\\vscode\\lib\\site-packages (from datasets) (3.8.4)\n",
            "Requirement already satisfied: numpy>=1.17 in c:\\users\\ss613\\anaconda3\\envs\\vscode\\lib\\site-packages (from datasets) (1.24.3)\n",
            "Requirement already satisfied: packaging in c:\\users\\ss613\\anaconda3\\envs\\vscode\\lib\\site-packages (from datasets) (23.0)\n",
            "Requirement already satisfied: xxhash in c:\\users\\ss613\\anaconda3\\envs\\vscode\\lib\\site-packages (from datasets) (3.2.0)\n",
            "Requirement already satisfied: huggingface-hub<1.0.0,>=0.11.0 in c:\\users\\ss613\\anaconda3\\envs\\vscode\\lib\\site-packages (from datasets) (0.14.1)\n",
            "Requirement already satisfied: pyyaml>=5.1 in c:\\users\\ss613\\anaconda3\\envs\\vscode\\lib\\site-packages (from datasets) (6.0)\n",
            "Requirement already satisfied: fsspec[http]>=2021.11.1 in c:\\users\\ss613\\anaconda3\\envs\\vscode\\lib\\site-packages (from datasets) (2023.4.0)\n",
            "Requirement already satisfied: multiprocess in c:\\users\\ss613\\anaconda3\\envs\\vscode\\lib\\site-packages (from datasets) (0.70.14)\n",
            "Requirement already satisfied: pyarrow>=8.0.0 in c:\\users\\ss613\\anaconda3\\envs\\vscode\\lib\\site-packages (from datasets) (11.0.0)\n",
            "Requirement already satisfied: responses<0.19 in c:\\users\\ss613\\anaconda3\\envs\\vscode\\lib\\site-packages (from datasets) (0.18.0)\n",
            "Requirement already satisfied: tqdm>=4.62.1 in c:\\users\\ss613\\anaconda3\\envs\\vscode\\lib\\site-packages (from datasets) (4.65.0)\n",
            "Requirement already satisfied: dill<0.3.7,>=0.3.0 in c:\\users\\ss613\\anaconda3\\envs\\vscode\\lib\\site-packages (from datasets) (0.3.6)\n",
            "Requirement already satisfied: filelock in c:\\users\\ss613\\anaconda3\\envs\\vscode\\lib\\site-packages (from transformers[sentencepiece]) (3.12.0)\n",
            "Requirement already satisfied: regex!=2019.12.17 in c:\\users\\ss613\\anaconda3\\envs\\vscode\\lib\\site-packages (from transformers[sentencepiece]) (2023.3.23)\n",
            "Requirement already satisfied: tokenizers!=0.11.3,<0.14,>=0.11.1 in c:\\users\\ss613\\anaconda3\\envs\\vscode\\lib\\site-packages (from transformers[sentencepiece]) (0.13.3)\n",
            "Requirement already satisfied: protobuf<=3.20.2 in c:\\users\\ss613\\anaconda3\\envs\\vscode\\lib\\site-packages (from transformers[sentencepiece]) (3.20.2)\n",
            "Requirement already satisfied: sentencepiece!=0.1.92,>=0.1.91 in c:\\users\\ss613\\anaconda3\\envs\\vscode\\lib\\site-packages (from transformers[sentencepiece]) (0.1.98)\n",
            "Requirement already satisfied: frozenlist>=1.1.1 in c:\\users\\ss613\\anaconda3\\envs\\vscode\\lib\\site-packages (from aiohttp->datasets) (1.3.3)\n",
            "Requirement already satisfied: yarl<2.0,>=1.0 in c:\\users\\ss613\\anaconda3\\envs\\vscode\\lib\\site-packages (from aiohttp->datasets) (1.9.2)\n",
            "Requirement already satisfied: attrs>=17.3.0 in c:\\users\\ss613\\anaconda3\\envs\\vscode\\lib\\site-packages (from aiohttp->datasets) (23.1.0)\n",
            "Requirement already satisfied: async-timeout<5.0,>=4.0.0a3 in c:\\users\\ss613\\anaconda3\\envs\\vscode\\lib\\site-packages (from aiohttp->datasets) (4.0.2)\n",
            "Requirement already satisfied: multidict<7.0,>=4.5 in c:\\users\\ss613\\anaconda3\\envs\\vscode\\lib\\site-packages (from aiohttp->datasets) (6.0.4)\n",
            "Requirement already satisfied: aiosignal>=1.1.2 in c:\\users\\ss613\\anaconda3\\envs\\vscode\\lib\\site-packages (from aiohttp->datasets) (1.3.1)\n",
            "Requirement already satisfied: charset-normalizer<4.0,>=2.0 in c:\\users\\ss613\\anaconda3\\envs\\vscode\\lib\\site-packages (from aiohttp->datasets) (3.1.0)\n",
            "Requirement already satisfied: typing-extensions>=3.7.4.3 in c:\\users\\ss613\\anaconda3\\envs\\vscode\\lib\\site-packages (from huggingface-hub<1.0.0,>=0.11.0->datasets) (4.5.0)\n",
            "Requirement already satisfied: idna<4,>=2.5 in c:\\users\\ss613\\anaconda3\\envs\\vscode\\lib\\site-packages (from requests>=2.19.0->datasets) (3.4)\n",
            "Requirement already satisfied: certifi>=2017.4.17 in c:\\users\\ss613\\anaconda3\\envs\\vscode\\lib\\site-packages (from requests>=2.19.0->datasets) (2022.12.7)\n",
            "Requirement already satisfied: urllib3<1.27,>=1.21.1 in c:\\users\\ss613\\anaconda3\\envs\\vscode\\lib\\site-packages (from requests>=2.19.0->datasets) (1.26.15)\n",
            "Requirement already satisfied: colorama in c:\\users\\ss613\\anaconda3\\envs\\vscode\\lib\\site-packages (from tqdm>=4.62.1->datasets) (0.4.6)\n",
            "Requirement already satisfied: pytz>=2020.1 in c:\\users\\ss613\\anaconda3\\envs\\vscode\\lib\\site-packages (from pandas->datasets) (2022.7)\n",
            "Requirement already satisfied: python-dateutil>=2.8.1 in c:\\users\\ss613\\anaconda3\\envs\\vscode\\lib\\site-packages (from pandas->datasets) (2.8.2)\n",
            "Requirement already satisfied: six>=1.5 in c:\\users\\ss613\\anaconda3\\envs\\vscode\\lib\\site-packages (from python-dateutil>=2.8.1->pandas->datasets) (1.16.0)\n"
          ]
        }
      ],
      "source": [
        "#keyword取り出し部分\n",
        "!pip install datasets evaluate transformers[sentencepiece]"
      ]
    },
    {
      "cell_type": "code",
      "execution_count": 6,
      "metadata": {
        "colab": {
          "base_uri": "https://localhost:8080/",
          "height": 343
        },
        "id": "g_vy7MyGjSbe",
        "outputId": "6a439b2a-6be6-4de6-9c66-34a84fda4897"
      },
      "outputs": [
        {
          "ename": "ImportError",
          "evalue": "cannot import name 'extract_keyword' from 'server' (unknown location)",
          "output_type": "error",
          "traceback": [
            "\u001b[1;31m---------------------------------------------------------------------------\u001b[0m",
            "\u001b[1;31mImportError\u001b[0m                               Traceback (most recent call last)",
            "\u001b[1;32mc:\\Users\\Ss613\\Documents\\GitHub\\MSC2020_Recommend\\recom_MSC2020.ipynb Cell 7\u001b[0m in \u001b[0;36m<cell line: 1>\u001b[1;34m()\u001b[0m\n\u001b[1;32m----> <a href='vscode-notebook-cell:/c%3A/Users/Ss613/Documents/GitHub/MSC2020_Recommend/recom_MSC2020.ipynb#X32sZmlsZQ%3D%3D?line=0'>1</a>\u001b[0m \u001b[39mfrom\u001b[39;00m \u001b[39mserver\u001b[39;00m \u001b[39mimport\u001b[39;00m extract_keyword \n\u001b[0;32m      <a href='vscode-notebook-cell:/c%3A/Users/Ss613/Documents/GitHub/MSC2020_Recommend/recom_MSC2020.ipynb#X32sZmlsZQ%3D%3D?line=1'>2</a>\u001b[0m \u001b[39mfrom\u001b[39;00m \u001b[39mserver\u001b[39;00m \u001b[39mimport\u001b[39;00m parse_zbmath \n\u001b[0;32m      <a href='vscode-notebook-cell:/c%3A/Users/Ss613/Documents/GitHub/MSC2020_Recommend/recom_MSC2020.ipynb#X32sZmlsZQ%3D%3D?line=2'>3</a>\u001b[0m \u001b[39mfrom\u001b[39;00m \u001b[39mserver\u001b[39;00m \u001b[39mimport\u001b[39;00m print_MSC2020\n",
            "\u001b[1;31mImportError\u001b[0m: cannot import name 'extract_keyword' from 'server' (unknown location)"
          ]
        }
      ],
      "source": [
        "from server import extract_keyword \n",
        "from server import parse_zbmath \n",
        "from server import print_MSC2020"
      ]
    },
    {
      "cell_type": "code",
      "execution_count": null,
      "metadata": {
        "id": "HRyBy7VSWc_L"
      },
      "outputs": [],
      "source": [
        "keyword_model_name = \"yanekyuk/bert-uncased-keyword-extractor\""
      ]
    },
    {
      "cell_type": "code",
      "execution_count": null,
      "metadata": {
        "id": "3lJoDgfoTuxi"
      },
      "outputs": [],
      "source": [
        "#MSC2020の名前リスト\n",
        "msc2020_array = pd.read_csv('./MSC/MSC2020.tsv', header=None , sep='\\t').values"
      ]
    },
    {
      "cell_type": "markdown",
      "metadata": {
        "id": "GCj9YLM6TFbo"
      },
      "source": [
        "#処理（すべて実行し終えてやり直すときにはここから実行してください）"
      ]
    },
    {
      "cell_type": "markdown",
      "metadata": {
        "id": "BtzCsdt4Q8gn"
      },
      "source": [
        "判別してほしい文章を入れてください。  \n",
        "例) sentence = \"This is paper.\""
      ]
    },
    {
      "cell_type": "code",
      "execution_count": null,
      "metadata": {
        "cellView": "form",
        "id": "rEnzPwIGRi1Y"
      },
      "outputs": [],
      "source": [
        "sentence = \"Please write abstract, turing\"#@param {type:\"string\"}"
      ]
    },
    {
      "cell_type": "markdown",
      "metadata": {
        "id": "au5pZxjiS0op"
      },
      "source": [
        "表示してほしいMSC2020のラベル数を指定してください。    \n",
        "注）指定よりも表示されるラベルの数が少ない可能性もあります。"
      ]
    },
    {
      "cell_type": "code",
      "execution_count": null,
      "metadata": {
        "cellView": "form",
        "id": "sIapQKPCRlQ2"
      },
      "outputs": [],
      "source": [
        "num = 100#@param {type:\"number\"}"
      ]
    },
    {
      "cell_type": "code",
      "execution_count": null,
      "metadata": {
        "id": "CrxjvV64TP3T"
      },
      "outputs": [],
      "source": [
        "keyword_list = extract_keyword.extract_keywords(sentence,keyword_model_name)"
      ]
    },
    {
      "cell_type": "code",
      "execution_count": null,
      "metadata": {
        "id": "rSCGUM-Khn_m"
      },
      "outputs": [],
      "source": [
        "msc_2020_lst = parse_zbmath.make_msc2020_num_list(keyword_list, num)"
      ]
    },
    {
      "cell_type": "code",
      "execution_count": null,
      "metadata": {
        "id": "Jqgc-GDiz7YM"
      },
      "outputs": [],
      "source": [
        "print_MSC2020.print_msc2020(msc_2020_lst, msc2020_array)"
      ]
    }
  ],
  "metadata": {
    "accelerator": "GPU",
    "colab": {
      "authorship_tag": "ABX9TyPnPhozCPswv/dE1kS5RSal",
      "collapsed_sections": [
        "pSbOLEN0S8eI"
      ],
      "provenance": []
    },
    "gpuClass": "standard",
    "kernelspec": {
      "display_name": "Python 3",
      "name": "python3"
    },
    "language_info": {
      "codemirror_mode": {
        "name": "ipython",
        "version": 3
      },
      "file_extension": ".py",
      "mimetype": "text/x-python",
      "name": "python",
      "nbconvert_exporter": "python",
      "pygments_lexer": "ipython3",
      "version": "3.8.16"
    }
  },
  "nbformat": 4,
  "nbformat_minor": 0
}
