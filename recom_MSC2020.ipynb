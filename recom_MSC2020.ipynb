{
  "nbformat": 4,
  "nbformat_minor": 0,
  "metadata": {
    "colab": {
      "provenance": [],
      "authorship_tag": "ABX9TyMdK4StfVEa0P5PmFA6okD8"
    },
    "kernelspec": {
      "name": "python3",
      "display_name": "Python 3"
    },
    "language_info": {
      "name": "python"
    },
    "accelerator": "GPU",
    "gpuClass": "standard"
  },
  "cells": [
    {
      "cell_type": "markdown",
      "source": [
        "#\"\"の間に判別してほしい文章を入れてください. \n",
        "例) sequence = \"This is paper.\""
      ],
      "metadata": {
        "id": "BtzCsdt4Q8gn"
      }
    },
    {
      "cell_type": "code",
      "source": [
        "sequence = \"Please write abstract, turing\""
      ],
      "metadata": {
        "id": "EOc9kIeQRYcy"
      },
      "execution_count": 1,
      "outputs": []
    },
    {
      "cell_type": "markdown",
      "source": [
        "##MSC2020の分類番号の個数を教えてください。（出力が指定した数以下の場合もあります。）"
      ],
      "metadata": {
        "id": "-t9GqAYYiGNo"
      }
    },
    {
      "cell_type": "code",
      "source": [
        "num = 20"
      ],
      "metadata": {
        "id": "zkFMZa-fiEmv"
      },
      "execution_count": 2,
      "outputs": []
    },
    {
      "cell_type": "markdown",
      "source": [
        "#ダウンロード\n",
        "必要なリソースをダウンロードします。"
      ],
      "metadata": {
        "id": "pSbOLEN0S8eI"
      }
    },
    {
      "cell_type": "code",
      "source": [
        "import numpy as np\n",
        "import pandas as pd"
      ],
      "metadata": {
        "id": "fPIGQqEhUCE7"
      },
      "execution_count": 3,
      "outputs": []
    },
    {
      "cell_type": "code",
      "source": [
        "!git clone https://github.com/SayakaSuzuki47/MSC2020_Recommend.git"
      ],
      "metadata": {
        "colab": {
          "base_uri": "https://localhost:8080/"
        },
        "id": "wma0a1LYSTIz",
        "outputId": "b2e7d066-f879-4077-afb4-9433d629cf3f"
      },
      "execution_count": 4,
      "outputs": [
        {
          "output_type": "stream",
          "name": "stdout",
          "text": [
            "fatal: destination path 'MSC2020_Recommend' already exists and is not an empty directory.\n"
          ]
        }
      ]
    },
    {
      "cell_type": "code",
      "source": [
        "%cd './MSC2020_Recommend'"
      ],
      "metadata": {
        "colab": {
          "base_uri": "https://localhost:8080/"
        },
        "id": "e_3uezABSmYC",
        "outputId": "782ecd23-d8d9-4ff5-8447-f6109e39e286"
      },
      "execution_count": 5,
      "outputs": [
        {
          "output_type": "stream",
          "name": "stdout",
          "text": [
            "/content/MSC2020_Recommend\n"
          ]
        }
      ]
    },
    {
      "cell_type": "code",
      "source": [
        "!git pull"
      ],
      "metadata": {
        "colab": {
          "base_uri": "https://localhost:8080/"
        },
        "id": "q9IW1C2Pj96E",
        "outputId": "9ca07b25-abe9-4413-8818-583d439539a7"
      },
      "execution_count": 6,
      "outputs": [
        {
          "output_type": "stream",
          "name": "stdout",
          "text": [
            "remote: Enumerating objects: 7, done.\u001b[K\n",
            "remote: Counting objects:  14% (1/7)\u001b[K\rremote: Counting objects:  28% (2/7)\u001b[K\rremote: Counting objects:  42% (3/7)\u001b[K\rremote: Counting objects:  57% (4/7)\u001b[K\rremote: Counting objects:  71% (5/7)\u001b[K\rremote: Counting objects:  85% (6/7)\u001b[K\rremote: Counting objects: 100% (7/7)\u001b[K\rremote: Counting objects: 100% (7/7), done.\u001b[K\n",
            "remote: Compressing objects: 100% (1/1)\u001b[K\rremote: Compressing objects: 100% (1/1), done.\u001b[K\n",
            "remote: Total 4 (delta 3), reused 4 (delta 3), pack-reused 0\u001b[K\n",
            "Unpacking objects:  25% (1/4)\rUnpacking objects:  50% (2/4)\rUnpacking objects:  75% (3/4)\rUnpacking objects: 100% (4/4)\rUnpacking objects: 100% (4/4), 347 bytes | 347.00 KiB/s, done.\n",
            "From https://github.com/SayakaSuzuki47/MSC2020_Recommend\n",
            "   c4fa522..3e3465d  main       -> origin/main\n",
            "Updating c4fa522..3e3465d\n",
            "Fast-forward\n",
            " server/print_MSC2020.py | 2 \u001b[32m+\u001b[m\u001b[31m-\u001b[m\n",
            " 1 file changed, 1 insertion(+), 1 deletion(-)\n"
          ]
        }
      ]
    },
    {
      "cell_type": "code",
      "source": [
        "#keyword取り出し部分\n",
        "!pip install datasets evaluate transformers[sentencepiece]"
      ],
      "metadata": {
        "id": "hhVy33U5Vlif",
        "colab": {
          "base_uri": "https://localhost:8080/"
        },
        "outputId": "7795de19-2628-4ddc-b290-13d5be8ad46f"
      },
      "execution_count": 7,
      "outputs": [
        {
          "output_type": "stream",
          "name": "stdout",
          "text": [
            "Looking in indexes: https://pypi.org/simple, https://us-python.pkg.dev/colab-wheels/public/simple/\n",
            "Requirement already satisfied: datasets in /usr/local/lib/python3.9/dist-packages (2.11.0)\n",
            "Requirement already satisfied: evaluate in /usr/local/lib/python3.9/dist-packages (0.4.0)\n",
            "Requirement already satisfied: transformers[sentencepiece] in /usr/local/lib/python3.9/dist-packages (4.28.1)\n",
            "Requirement already satisfied: requests>=2.19.0 in /usr/local/lib/python3.9/dist-packages (from datasets) (2.27.1)\n",
            "Requirement already satisfied: multiprocess in /usr/local/lib/python3.9/dist-packages (from datasets) (0.70.14)\n",
            "Requirement already satisfied: pyarrow>=8.0.0 in /usr/local/lib/python3.9/dist-packages (from datasets) (9.0.0)\n",
            "Requirement already satisfied: fsspec[http]>=2021.11.1 in /usr/local/lib/python3.9/dist-packages (from datasets) (2023.4.0)\n",
            "Requirement already satisfied: responses<0.19 in /usr/local/lib/python3.9/dist-packages (from datasets) (0.18.0)\n",
            "Requirement already satisfied: dill<0.3.7,>=0.3.0 in /usr/local/lib/python3.9/dist-packages (from datasets) (0.3.6)\n",
            "Requirement already satisfied: tqdm>=4.62.1 in /usr/local/lib/python3.9/dist-packages (from datasets) (4.65.0)\n",
            "Requirement already satisfied: pyyaml>=5.1 in /usr/local/lib/python3.9/dist-packages (from datasets) (6.0)\n",
            "Requirement already satisfied: pandas in /usr/local/lib/python3.9/dist-packages (from datasets) (1.5.3)\n",
            "Requirement already satisfied: packaging in /usr/local/lib/python3.9/dist-packages (from datasets) (23.1)\n",
            "Requirement already satisfied: huggingface-hub<1.0.0,>=0.11.0 in /usr/local/lib/python3.9/dist-packages (from datasets) (0.14.1)\n",
            "Requirement already satisfied: numpy>=1.17 in /usr/local/lib/python3.9/dist-packages (from datasets) (1.22.4)\n",
            "Requirement already satisfied: xxhash in /usr/local/lib/python3.9/dist-packages (from datasets) (3.2.0)\n",
            "Requirement already satisfied: aiohttp in /usr/local/lib/python3.9/dist-packages (from datasets) (3.8.4)\n",
            "Requirement already satisfied: filelock in /usr/local/lib/python3.9/dist-packages (from transformers[sentencepiece]) (3.11.0)\n",
            "Requirement already satisfied: regex!=2019.12.17 in /usr/local/lib/python3.9/dist-packages (from transformers[sentencepiece]) (2022.10.31)\n",
            "Requirement already satisfied: tokenizers!=0.11.3,<0.14,>=0.11.1 in /usr/local/lib/python3.9/dist-packages (from transformers[sentencepiece]) (0.13.3)\n",
            "Requirement already satisfied: protobuf<=3.20.2 in /usr/local/lib/python3.9/dist-packages (from transformers[sentencepiece]) (3.20.2)\n",
            "Requirement already satisfied: sentencepiece!=0.1.92,>=0.1.91 in /usr/local/lib/python3.9/dist-packages (from transformers[sentencepiece]) (0.1.98)\n",
            "Requirement already satisfied: frozenlist>=1.1.1 in /usr/local/lib/python3.9/dist-packages (from aiohttp->datasets) (1.3.3)\n",
            "Requirement already satisfied: charset-normalizer<4.0,>=2.0 in /usr/local/lib/python3.9/dist-packages (from aiohttp->datasets) (2.0.12)\n",
            "Requirement already satisfied: async-timeout<5.0,>=4.0.0a3 in /usr/local/lib/python3.9/dist-packages (from aiohttp->datasets) (4.0.2)\n",
            "Requirement already satisfied: yarl<2.0,>=1.0 in /usr/local/lib/python3.9/dist-packages (from aiohttp->datasets) (1.9.2)\n",
            "Requirement already satisfied: aiosignal>=1.1.2 in /usr/local/lib/python3.9/dist-packages (from aiohttp->datasets) (1.3.1)\n",
            "Requirement already satisfied: multidict<7.0,>=4.5 in /usr/local/lib/python3.9/dist-packages (from aiohttp->datasets) (6.0.4)\n",
            "Requirement already satisfied: attrs>=17.3.0 in /usr/local/lib/python3.9/dist-packages (from aiohttp->datasets) (23.1.0)\n",
            "Requirement already satisfied: typing-extensions>=3.7.4.3 in /usr/local/lib/python3.9/dist-packages (from huggingface-hub<1.0.0,>=0.11.0->datasets) (4.5.0)\n",
            "Requirement already satisfied: urllib3<1.27,>=1.21.1 in /usr/local/lib/python3.9/dist-packages (from requests>=2.19.0->datasets) (1.26.15)\n",
            "Requirement already satisfied: certifi>=2017.4.17 in /usr/local/lib/python3.9/dist-packages (from requests>=2.19.0->datasets) (2022.12.7)\n",
            "Requirement already satisfied: idna<4,>=2.5 in /usr/local/lib/python3.9/dist-packages (from requests>=2.19.0->datasets) (3.4)\n",
            "Requirement already satisfied: pytz>=2020.1 in /usr/local/lib/python3.9/dist-packages (from pandas->datasets) (2022.7.1)\n",
            "Requirement already satisfied: python-dateutil>=2.8.1 in /usr/local/lib/python3.9/dist-packages (from pandas->datasets) (2.8.2)\n",
            "Requirement already satisfied: six>=1.5 in /usr/local/lib/python3.9/dist-packages (from python-dateutil>=2.8.1->pandas->datasets) (1.16.0)\n"
          ]
        }
      ]
    },
    {
      "cell_type": "code",
      "source": [
        "from server import extract_keword \n",
        "from server import parse_zbmath \n",
        "from server import print_MSC2020"
      ],
      "metadata": {
        "id": "g_vy7MyGjSbe"
      },
      "execution_count": 8,
      "outputs": []
    },
    {
      "cell_type": "code",
      "source": [
        "keyword_model_name = \"yanekyuk/bert-uncased-keyword-extractor\""
      ],
      "metadata": {
        "id": "HRyBy7VSWc_L"
      },
      "execution_count": 9,
      "outputs": []
    },
    {
      "cell_type": "code",
      "source": [
        "#MSC2020の名前リスト\n",
        "msc2020_array = pd.read_csv('./MSC/MSC2020.tsv', header=None , sep='\\t').values"
      ],
      "metadata": {
        "id": "3lJoDgfoTuxi"
      },
      "execution_count": 10,
      "outputs": []
    },
    {
      "cell_type": "markdown",
      "source": [
        "#処理（すべて実行し終えてやり直すときにはここから実行してください）"
      ],
      "metadata": {
        "id": "GCj9YLM6TFbo"
      }
    },
    {
      "cell_type": "code",
      "source": [
        "keyword_list = extract_keword.extract_keywords(sequence,keyword_model_name)"
      ],
      "metadata": {
        "id": "CrxjvV64TP3T"
      },
      "execution_count": 11,
      "outputs": []
    },
    {
      "cell_type": "code",
      "source": [
        "msc_2020_lst = parse_zbmath.make_msc2020_num_list(keyword_list, num)"
      ],
      "metadata": {
        "id": "rSCGUM-Khn_m"
      },
      "execution_count": 12,
      "outputs": []
    },
    {
      "cell_type": "code",
      "source": [
        "print_MSC2020.print_msc2020(msc_2020_lst, msc2020_array)"
      ],
      "metadata": {
        "colab": {
          "base_uri": "https://localhost:8080/"
        },
        "id": "Jqgc-GDiz7YM",
        "outputId": "01cca8f7-ddb2-4038-fbc5-777dd9d3a819"
      },
      "execution_count": 13,
      "outputs": [
        {
          "output_type": "stream",
          "name": "stdout",
          "text": [
            "90C60 : Abstract computational complexity for mathematical programming problems  (The frequency is 14.)\n",
            "34G20 : Nonlinear diﬀerential equations in abstract spaces  (The frequency is 8.)\n",
            "58E05 : Abstract critical point theory  (The frequency is 6.)\n",
            "90C48 : Programming in abstract spaces (The frequency is 5.)\n",
            "47L30 : Abstract operator algebras on Hilbert spaces (The frequency is 5.)\n",
            "20D10 : Finite solvable groups, theory of formations, Schunck classes, Fitting classes, π-length, ranks  (The frequency is 4.)\n",
            "20D60 : Arithmetic and combinatorial problems involving abstract ﬁnite groups (The frequency is 4.)\n",
            "20D40 : Products of subgroups of abstract ﬁnite groups (The frequency is 4.)\n",
            "05C25 : Graphs and abstract algebra  (The frequency is 4.)\n",
            "34G10 : Linear diﬀerential equations in abstract spaces  (The frequency is 4.)\n",
            "49J40 : Variational inequalities  (The frequency is 4.)\n",
            "90B80 : Discrete location and assignment  (The frequency is 4.)\n",
            "41A65 : Abstract approximation theory  (The frequency is 4.)\n",
            "90C35 : Programming involving graphs or networks  (The frequency is 4.)\n",
            "93C25 : Control/observation systems in abstract spaces (The frequency is 4.)\n",
            "65J20 : Numerical solutions of ill-posed problems in abstract spaces; regularization (The frequency is 4.)\n",
            "90C25 : Convex programming (The frequency is 4.)\n",
            "34B15 : Nonlinear boundary value problems for ordinary diﬀerential equations (The frequency is 3.)\n",
            "47J05 : Equations involving nonlinear operators  (The frequency is 3.)\n",
            "46G10 : Vector-valued measures and integration  (The frequency is 3.)\n"
          ]
        }
      ]
    }
  ]
}